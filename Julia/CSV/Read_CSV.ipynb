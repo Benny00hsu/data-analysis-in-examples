{
 "cells": [
  {
   "cell_type": "markdown",
   "metadata": {},
   "source": [
    "## Reading a CSV file to a DataFrame in Julia (programing lang)\n",
    "Julia often offer several ways how to do the same thing and reading CSV is an example. In all cases, you will need the `CSV` and `DataFrames` package. If you don't have them installed, in the Julia REPL run: `import Pkg; Pkg.add(\"CSV\"); Pkg.add(\"DataFrames\")`"
   ]
  },
  {
   "cell_type": "code",
   "execution_count": 97,
   "metadata": {},
   "outputs": [],
   "source": [
    "import CSV\n",
    "import DataFrames.DataFrame\n",
    "using StringEncodings\n",
    "using Dates"
   ]
  },
  {
   "cell_type": "code",
   "execution_count": 2,
   "metadata": {},
   "outputs": [
    {
     "data": {
      "text/html": [
       "<table class=\"data-frame\"><thead><tr><th></th><th>A</th><th>B</th></tr><tr><th></th><th>Int64</th><th>String</th></tr></thead><tbody><p>4 rows × 2 columns</p><tr><th>1</th><td>1</td><td>M</td></tr><tr><th>2</th><td>2</td><td>F</td></tr><tr><th>3</th><td>3</td><td>F</td></tr><tr><th>4</th><td>4</td><td>M</td></tr></tbody></table>"
      ],
      "text/latex": [
       "\\begin{tabular}{r|cc}\n",
       "\t& A & B\\\\\n",
       "\t\\hline\n",
       "\t& Int64 & String\\\\\n",
       "\t\\hline\n",
       "\t1 & 1 & M \\\\\n",
       "\t2 & 2 & F \\\\\n",
       "\t3 & 3 & F \\\\\n",
       "\t4 & 4 & M \\\\\n",
       "\\end{tabular}\n"
      ],
      "text/plain": [
       "\u001b[1m4×2 DataFrame\u001b[0m\n",
       "\u001b[1m Row \u001b[0m│\u001b[1m A     \u001b[0m\u001b[1m B      \u001b[0m\n",
       "\u001b[1m     \u001b[0m│\u001b[90m Int64 \u001b[0m\u001b[90m String \u001b[0m\n",
       "─────┼───────────────\n",
       "   1 │     1  M\n",
       "   2 │     2  F\n",
       "   3 │     3  F\n",
       "   4 │     4  M"
      ]
     },
     "execution_count": 2,
     "metadata": {},
     "output_type": "execute_result"
    }
   ],
   "source": [
    "DataFrame(A = 1:4, B = [\"M\", \"F\", \"F\", \"M\"])"
   ]
  },
  {
   "cell_type": "markdown",
   "metadata": {},
   "source": [
    "Using the `CSV.File` will return `CSV.File` object, which you can iterate to get `CSV.Row`s. See complete documentation of the [Julia CSV parser](https://csv.juliadata.org/stable/)."
   ]
  },
  {
   "cell_type": "code",
   "execution_count": 3,
   "metadata": {},
   "outputs": [
    {
     "data": {
      "text/plain": [
       "CSV.File{false}"
      ]
     },
     "execution_count": 3,
     "metadata": {},
     "output_type": "execute_result"
    }
   ],
   "source": [
    "csv_reader = CSV.File(\"file.csv\")\n",
    "typeof(csv_reader)"
   ]
  },
  {
   "cell_type": "code",
   "execution_count": 4,
   "metadata": {},
   "outputs": [
    {
     "name": "stdout",
     "output_type": "stream",
     "text": [
      "CSV.Row\n",
      "CSV.Row\n"
     ]
    }
   ],
   "source": [
    "for row in csv_reader\n",
    "    println(typeof(row))\n",
    "end"
   ]
  },
  {
   "cell_type": "markdown",
   "metadata": {},
   "source": [
    "Great thing is that CSV support Table.jl interface which allow to easilly access the columns using dot notation."
   ]
  },
  {
   "cell_type": "code",
   "execution_count": 6,
   "metadata": {},
   "outputs": [
    {
     "name": "stdout",
     "output_type": "stream",
     "text": [
      "first col. value: A ... 2.0\n",
      "first col. value: B ... 5.1\n"
     ]
    }
   ],
   "source": [
    "for row in csv_reader\n",
    "    println(\"first col. value: $(row.col1) ... $(row.col3)\")\n",
    "end"
   ]
  },
  {
   "cell_type": "markdown",
   "metadata": {},
   "source": [
    "## Read CSV option 1\n",
    "Load the data from CSV.File (Julia reader) and pass to the DataFrame function.\n",
    "\n",
    "`DataFrame(CSV.File(\"file.csv\"); kwargs)`\n",
    "\n",
    "By default the CSV.File will try to detect the delimiter from the first 10 lines. Default is `\",\"`. Notice that keyword argumets (kwargs) are separated by semicolon `;` by convention, though comma `,` works too. "
   ]
  },
  {
   "cell_type": "code",
   "execution_count": 19,
   "metadata": {},
   "outputs": [
    {
     "data": {
      "text/html": [
       "<table class=\"data-frame\"><thead><tr><th></th><th>col1</th><th>col2</th><th>col3</th></tr><tr><th></th><th>String</th><th>Int64</th><th>Float64</th></tr></thead><tbody><p>2 rows × 3 columns</p><tr><th>1</th><td>A</td><td>12</td><td>2.0</td></tr><tr><th>2</th><td>B</td><td>22</td><td>5.1</td></tr></tbody></table>"
      ],
      "text/latex": [
       "\\begin{tabular}{r|ccc}\n",
       "\t& col1 & col2 & col3\\\\\n",
       "\t\\hline\n",
       "\t& String & Int64 & Float64\\\\\n",
       "\t\\hline\n",
       "\t1 & A & 12 & 2.0 \\\\\n",
       "\t2 & B & 22 & 5.1 \\\\\n",
       "\\end{tabular}\n"
      ],
      "text/plain": [
       "\u001b[1m2×3 DataFrame\u001b[0m\n",
       "\u001b[1m Row \u001b[0m│\u001b[1m col1   \u001b[0m\u001b[1m col2  \u001b[0m\u001b[1m col3    \u001b[0m\n",
       "\u001b[1m     \u001b[0m│\u001b[90m String \u001b[0m\u001b[90m Int64 \u001b[0m\u001b[90m Float64 \u001b[0m\n",
       "─────┼────────────────────────\n",
       "   1 │ A          12      2.0\n",
       "   2 │ B          22      5.1"
      ]
     },
     "execution_count": 19,
     "metadata": {},
     "output_type": "execute_result"
    }
   ],
   "source": [
    "DataFrame(CSV.File(\"file.csv\"; delim=\",\"))"
   ]
  },
  {
   "cell_type": "markdown",
   "metadata": {},
   "source": [
    "## Read CSV option 2\n",
    "You can also read the csv file and pipe it to the `DataFrames.DataFrame` object."
   ]
  },
  {
   "cell_type": "code",
   "execution_count": 20,
   "metadata": {},
   "outputs": [
    {
     "data": {
      "text/html": [
       "<table class=\"data-frame\"><thead><tr><th></th><th>col1</th><th>col2</th><th>col3</th></tr><tr><th></th><th>String</th><th>Int64</th><th>Float64</th></tr></thead><tbody><p>2 rows × 3 columns</p><tr><th>1</th><td>A</td><td>12</td><td>2.0</td></tr><tr><th>2</th><td>B</td><td>22</td><td>5.1</td></tr></tbody></table>"
      ],
      "text/latex": [
       "\\begin{tabular}{r|ccc}\n",
       "\t& col1 & col2 & col3\\\\\n",
       "\t\\hline\n",
       "\t& String & Int64 & Float64\\\\\n",
       "\t\\hline\n",
       "\t1 & A & 12 & 2.0 \\\\\n",
       "\t2 & B & 22 & 5.1 \\\\\n",
       "\\end{tabular}\n"
      ],
      "text/plain": [
       "\u001b[1m2×3 DataFrame\u001b[0m\n",
       "\u001b[1m Row \u001b[0m│\u001b[1m col1   \u001b[0m\u001b[1m col2  \u001b[0m\u001b[1m col3    \u001b[0m\n",
       "\u001b[1m     \u001b[0m│\u001b[90m String \u001b[0m\u001b[90m Int64 \u001b[0m\u001b[90m Float64 \u001b[0m\n",
       "─────┼────────────────────────\n",
       "   1 │ A          12      2.0\n",
       "   2 │ B          22      5.1"
      ]
     },
     "execution_count": 20,
     "metadata": {},
     "output_type": "execute_result"
    }
   ],
   "source": [
    "CSV.File(\"file.csv\", header=1) |> DataFrame"
   ]
  },
  {
   "cell_type": "markdown",
   "metadata": {},
   "source": [
    "## Read CSV option 3\n",
    "To be similar to other languages, there's `CSV.read(file,DataFrame; kwargs)`, syntactic sugar. "
   ]
  },
  {
   "cell_type": "code",
   "execution_count": 23,
   "metadata": {},
   "outputs": [
    {
     "data": {
      "text/html": [
       "<table class=\"data-frame\"><thead><tr><th></th><th>col1</th><th>col2</th><th>col3</th></tr><tr><th></th><th>String</th><th>Int64</th><th>Float64</th></tr></thead><tbody><p>2 rows × 3 columns</p><tr><th>1</th><td>A</td><td>12</td><td>2.0</td></tr><tr><th>2</th><td>B</td><td>22</td><td>5.1</td></tr></tbody></table>"
      ],
      "text/latex": [
       "\\begin{tabular}{r|ccc}\n",
       "\t& col1 & col2 & col3\\\\\n",
       "\t\\hline\n",
       "\t& String & Int64 & Float64\\\\\n",
       "\t\\hline\n",
       "\t1 & A & 12 & 2.0 \\\\\n",
       "\t2 & B & 22 & 5.1 \\\\\n",
       "\\end{tabular}\n"
      ],
      "text/plain": [
       "\u001b[1m2×3 DataFrame\u001b[0m\n",
       "\u001b[1m Row \u001b[0m│\u001b[1m col1   \u001b[0m\u001b[1m col2  \u001b[0m\u001b[1m col3    \u001b[0m\n",
       "\u001b[1m     \u001b[0m│\u001b[90m String \u001b[0m\u001b[90m Int64 \u001b[0m\u001b[90m Float64 \u001b[0m\n",
       "─────┼────────────────────────\n",
       "   1 │ A          12      2.0\n",
       "   2 │ B          22      5.1"
      ]
     },
     "execution_count": 23,
     "metadata": {},
     "output_type": "execute_result"
    }
   ],
   "source": [
    "CSV.read(\"file.csv\", DataFrame; ignoreemptylines=true)"
   ]
  },
  {
   "cell_type": "markdown",
   "metadata": {},
   "source": [
    "## Encoding\n",
    "You can deal with the non-UTF-8 encoding, by using `read` method and specifying the encoding. Encoding fall under the [StringEncodings.jl](https://github.com/JuliaStrings/StringEncodings.jl) which must first be imported by `using StringEncodings`"
   ]
  },
  {
   "cell_type": "code",
   "execution_count": 49,
   "metadata": {},
   "outputs": [
    {
     "data": {
      "text/html": [
       "<table class=\"data-frame\"><thead><tr><th></th><th>col1</th><th>col2</th><th>col3</th></tr><tr><th></th><th>String</th><th>Int64</th><th>Float64</th></tr></thead><tbody><p>2 rows × 3 columns</p><tr><th>1</th><td>\\xc8</td><td>12</td><td>2.0</td></tr><tr><th>2</th><td>\\xf8</td><td>22</td><td>5.1</td></tr></tbody></table>"
      ],
      "text/latex": [
       "\\begin{tabular}{r|ccc}\n",
       "\t& col1 & col2 & col3\\\\\n",
       "\t\\hline\n",
       "\t& String & Int64 & Float64\\\\\n",
       "\t\\hline\n",
       "\t1 & \\textbackslash{}xc8 & 12 & 2.0 \\\\\n",
       "\t2 & \\textbackslash{}xf8 & 22 & 5.1 \\\\\n",
       "\\end{tabular}\n"
      ],
      "text/plain": [
       "\u001b[1m2×3 DataFrame\u001b[0m\n",
       "\u001b[1m Row \u001b[0m│\u001b[1m col1   \u001b[0m\u001b[1m col2  \u001b[0m\u001b[1m col3    \u001b[0m\n",
       "\u001b[1m     \u001b[0m│\u001b[90m String \u001b[0m\u001b[90m Int64 \u001b[0m\u001b[90m Float64 \u001b[0m\n",
       "─────┼────────────────────────\n",
       "   1 │ \\xc8       12      2.0\n",
       "   2 │ \\xf8       22      5.1"
      ]
     },
     "execution_count": 49,
     "metadata": {},
     "output_type": "execute_result"
    }
   ],
   "source": [
    "# letter in the column `col1` are encoded in windows-1250\n",
    "DataFrame(CSV.File(\"file_encoding.csv\"))"
   ]
  },
  {
   "cell_type": "markdown",
   "metadata": {},
   "source": [
    "to create an instance of Encoding type, you can use `enc` shortcut in front of encodings string name."
   ]
  },
  {
   "cell_type": "code",
   "execution_count": 5,
   "metadata": {},
   "outputs": [
    {
     "data": {
      "text/html": [
       "<table class=\"data-frame\"><thead><tr><th></th><th>col1</th><th>col2</th><th>col3</th></tr><tr><th></th><th>String</th><th>Int64</th><th>Float64</th></tr></thead><tbody><p>2 rows × 3 columns</p><tr><th>1</th><td>Č</td><td>12</td><td>2.0</td></tr><tr><th>2</th><td>ř</td><td>22</td><td>5.1</td></tr></tbody></table>"
      ],
      "text/latex": [
       "\\begin{tabular}{r|ccc}\n",
       "\t& col1 & col2 & col3\\\\\n",
       "\t\\hline\n",
       "\t& String & Int64 & Float64\\\\\n",
       "\t\\hline\n",
       "\t1 & Č & 12 & 2.0 \\\\\n",
       "\t2 & ř & 22 & 5.1 \\\\\n",
       "\\end{tabular}\n"
      ],
      "text/plain": [
       "\u001b[1m2×3 DataFrame\u001b[0m\n",
       "\u001b[1m Row \u001b[0m│\u001b[1m col1   \u001b[0m\u001b[1m col2  \u001b[0m\u001b[1m col3    \u001b[0m\n",
       "\u001b[1m     \u001b[0m│\u001b[90m String \u001b[0m\u001b[90m Int64 \u001b[0m\u001b[90m Float64 \u001b[0m\n",
       "─────┼────────────────────────\n",
       "   1 │ Č          12      2.0\n",
       "   2 │ ř          22      5.1"
      ]
     },
     "execution_count": 5,
     "metadata": {},
     "output_type": "execute_result"
    }
   ],
   "source": [
    "DataFrame(CSV.File(read(\"file_encoding.csv\", enc\"windows-1250\")))"
   ]
  },
  {
   "cell_type": "code",
   "execution_count": 7,
   "metadata": {},
   "outputs": [
    {
     "data": {
      "text/html": [
       "<table class=\"data-frame\"><thead><tr><th></th><th>col1</th><th>col2</th><th>col3</th></tr><tr><th></th><th>String</th><th>Int64</th><th>Float64</th></tr></thead><tbody><p>2 rows × 3 columns</p><tr><th>1</th><td>Č</td><td>12</td><td>2.0</td></tr><tr><th>2</th><td>ř</td><td>22</td><td>5.1</td></tr></tbody></table>"
      ],
      "text/latex": [
       "\\begin{tabular}{r|ccc}\n",
       "\t& col1 & col2 & col3\\\\\n",
       "\t\\hline\n",
       "\t& String & Int64 & Float64\\\\\n",
       "\t\\hline\n",
       "\t1 & Č & 12 & 2.0 \\\\\n",
       "\t2 & ř & 22 & 5.1 \\\\\n",
       "\\end{tabular}\n"
      ],
      "text/plain": [
       "\u001b[1m2×3 DataFrame\u001b[0m\n",
       "\u001b[1m Row \u001b[0m│\u001b[1m col1   \u001b[0m\u001b[1m col2  \u001b[0m\u001b[1m col3    \u001b[0m\n",
       "\u001b[1m     \u001b[0m│\u001b[90m String \u001b[0m\u001b[90m Int64 \u001b[0m\u001b[90m Float64 \u001b[0m\n",
       "─────┼────────────────────────\n",
       "   1 │ Č          12      2.0\n",
       "   2 │ ř          22      5.1"
      ]
     },
     "execution_count": 7,
     "metadata": {},
     "output_type": "execute_result"
    }
   ],
   "source": [
    "# using full syntax\n",
    "DataFrame(CSV.File(read(\"file_encoding.csv\", Encoding(\"windows-1250\"))))"
   ]
  },
  {
   "cell_type": "markdown",
   "metadata": {},
   "source": [
    "## CSV.File parameters\n",
    "Often you don't have goldplated csv and you have to define a few parameters of the reader. You can read about all the parameters in the [CSV.jl documentation](https://csv.juliadata.org/stable/). Key parameters are:\n",
    "* `delim` - the delimiter (separator), which can be char or string.\n",
    "* `header` - which row is header or used to rename the headers\n",
    "* `select` - include only these columns (identify by int, string or symbol)\n",
    "* `drop` - inverse of select, which column to drop\n",
    "* `skipto` or `datarow` - at which which row the data start\n",
    "* `footerskip` - rows to skip at the end of the file\n",
    "* `limit` - how many rows to read (only reliable if `threaded=false`)\n",
    "* `type` - single type to use to parse whole file\n",
    "* `types` - specify type for each column\n",
    "\n",
    "There are few other methods, mainly related to error handling in [CSV.jl documentation](https://csv.juliadata.org/stable/)"
   ]
  },
  {
   "cell_type": "code",
   "execution_count": 48,
   "metadata": {},
   "outputs": [
    {
     "data": {
      "text/html": [
       "<table class=\"data-frame\"><thead><tr><th></th><th>c1</th><th>c2</th><th>c3</th><th>c4</th></tr><tr><th></th><th>String</th><th>Int64</th><th>String</th><th>Float64</th></tr></thead><tbody><p>2 rows × 4 columns</p><tr><th>1</th><td>1</td><td>2</td><td>c</td><td>1.5</td></tr><tr><th>2</th><td>C|D</td><td>16</td><td>x</td><td>2.33</td></tr></tbody></table>"
      ],
      "text/latex": [
       "\\begin{tabular}{r|cccc}\n",
       "\t& c1 & c2 & c3 & c4\\\\\n",
       "\t\\hline\n",
       "\t& String & Int64 & String & Float64\\\\\n",
       "\t\\hline\n",
       "\t1 & 1 & 2 & c & 1.5 \\\\\n",
       "\t2 & C|D & 16 & x & 2.33 \\\\\n",
       "\\end{tabular}\n"
      ],
      "text/plain": [
       "\u001b[1m2×4 DataFrame\u001b[0m\n",
       "\u001b[1m Row \u001b[0m│\u001b[1m c1     \u001b[0m\u001b[1m c2    \u001b[0m\u001b[1m c3     \u001b[0m\u001b[1m c4      \u001b[0m\n",
       "\u001b[1m     \u001b[0m│\u001b[90m String \u001b[0m\u001b[90m Int64 \u001b[0m\u001b[90m String \u001b[0m\u001b[90m Float64 \u001b[0m\n",
       "─────┼────────────────────────────────\n",
       "   1 │ 1           2  c          1.5\n",
       "   2 │ C|D        16  x          2.33"
      ]
     },
     "execution_count": 48,
     "metadata": {},
     "output_type": "execute_result"
    }
   ],
   "source": [
    "data = \"\"\"\n",
    "\n",
    "c1|c2|c3|c4\n",
    "\"1\"|2|c|1.5\n",
    "\"C|D\"|16|x|2.33\n",
    "\"\"\"\n",
    "\n",
    "CSV.read(IOBuffer(data), DataFrame; delim='|', skipto=2, quotechar='\"')"
   ]
  },
  {
   "cell_type": "markdown",
   "metadata": {},
   "source": [
    "### Select paramter"
   ]
  },
  {
   "cell_type": "code",
   "execution_count": 24,
   "metadata": {},
   "outputs": [
    {
     "data": {
      "text/html": [
       "<table class=\"data-frame\"><thead><tr><th></th><th>c2</th></tr><tr><th></th><th>Int64</th></tr></thead><tbody><p>2 rows × 1 columns</p><tr><th>1</th><td>2</td></tr><tr><th>2</th><td>16</td></tr></tbody></table>"
      ],
      "text/latex": [
       "\\begin{tabular}{r|c}\n",
       "\t& c2\\\\\n",
       "\t\\hline\n",
       "\t& Int64\\\\\n",
       "\t\\hline\n",
       "\t1 & 2 \\\\\n",
       "\t2 & 16 \\\\\n",
       "\\end{tabular}\n"
      ],
      "text/plain": [
       "\u001b[1m2×1 DataFrame\u001b[0m\n",
       "\u001b[1m Row \u001b[0m│\u001b[1m c2    \u001b[0m\n",
       "\u001b[1m     \u001b[0m│\u001b[90m Int64 \u001b[0m\n",
       "─────┼───────\n",
       "   1 │     2\n",
       "   2 │    16"
      ]
     },
     "execution_count": 24,
     "metadata": {},
     "output_type": "execute_result"
    }
   ],
   "source": [
    "# select only the second column (Julia list start with 1)\n",
    "CSV.read(IOBuffer(data), DataFrame;select=[2])"
   ]
  },
  {
   "cell_type": "code",
   "execution_count": 25,
   "metadata": {},
   "outputs": [
    {
     "data": {
      "text/html": [
       "<table class=\"data-frame\"><thead><tr><th></th><th>c2</th><th>c4</th></tr><tr><th></th><th>Int64</th><th>Float64</th></tr></thead><tbody><p>2 rows × 2 columns</p><tr><th>1</th><td>2</td><td>1.5</td></tr><tr><th>2</th><td>16</td><td>2.33</td></tr></tbody></table>"
      ],
      "text/latex": [
       "\\begin{tabular}{r|cc}\n",
       "\t& c2 & c4\\\\\n",
       "\t\\hline\n",
       "\t& Int64 & Float64\\\\\n",
       "\t\\hline\n",
       "\t1 & 2 & 1.5 \\\\\n",
       "\t2 & 16 & 2.33 \\\\\n",
       "\\end{tabular}\n"
      ],
      "text/plain": [
       "\u001b[1m2×2 DataFrame\u001b[0m\n",
       "\u001b[1m Row \u001b[0m│\u001b[1m c2    \u001b[0m\u001b[1m c4      \u001b[0m\n",
       "\u001b[1m     \u001b[0m│\u001b[90m Int64 \u001b[0m\u001b[90m Float64 \u001b[0m\n",
       "─────┼────────────────\n",
       "   1 │     2     1.5\n",
       "   2 │    16     2.33"
      ]
     },
     "execution_count": 25,
     "metadata": {},
     "output_type": "execute_result"
    }
   ],
   "source": [
    "# select using string\n",
    "CSV.read(IOBuffer(data), DataFrame;select=[\"c2\",\"c4\"])"
   ]
  },
  {
   "cell_type": "code",
   "execution_count": 50,
   "metadata": {},
   "outputs": [
    {
     "data": {
      "text/html": [
       "<table class=\"data-frame\"><thead><tr><th></th><th>c1</th><th>c2</th></tr><tr><th></th><th>String</th><th>Int64</th></tr></thead><tbody><p>2 rows × 2 columns</p><tr><th>1</th><td>1</td><td>2</td></tr><tr><th>2</th><td>C|D</td><td>16</td></tr></tbody></table>"
      ],
      "text/latex": [
       "\\begin{tabular}{r|cc}\n",
       "\t& c1 & c2\\\\\n",
       "\t\\hline\n",
       "\t& String & Int64\\\\\n",
       "\t\\hline\n",
       "\t1 & 1 & 2 \\\\\n",
       "\t2 & C|D & 16 \\\\\n",
       "\\end{tabular}\n"
      ],
      "text/plain": [
       "\u001b[1m2×2 DataFrame\u001b[0m\n",
       "\u001b[1m Row \u001b[0m│\u001b[1m c1     \u001b[0m\u001b[1m c2    \u001b[0m\n",
       "\u001b[1m     \u001b[0m│\u001b[90m String \u001b[0m\u001b[90m Int64 \u001b[0m\n",
       "─────┼───────────────\n",
       "   1 │ 1           2\n",
       "   2 │ C|D        16"
      ]
     },
     "execution_count": 50,
     "metadata": {},
     "output_type": "execute_result"
    }
   ],
   "source": [
    "# select using symbol (symbols identify the columns and have : notation in Julia)\n",
    "CSV.read(IOBuffer(data), DataFrame;select=[:c1,:c2])"
   ]
  },
  {
   "cell_type": "code",
   "execution_count": 53,
   "metadata": {},
   "outputs": [
    {
     "data": {
      "text/html": [
       "<table class=\"data-frame\"><thead><tr><th></th><th>c2</th><th>c3</th></tr><tr><th></th><th>Int64</th><th>String</th></tr></thead><tbody><p>2 rows × 2 columns</p><tr><th>1</th><td>2</td><td>c</td></tr><tr><th>2</th><td>16</td><td>x</td></tr></tbody></table>"
      ],
      "text/latex": [
       "\\begin{tabular}{r|cc}\n",
       "\t& c2 & c3\\\\\n",
       "\t\\hline\n",
       "\t& Int64 & String\\\\\n",
       "\t\\hline\n",
       "\t1 & 2 & c \\\\\n",
       "\t2 & 16 & x \\\\\n",
       "\\end{tabular}\n"
      ],
      "text/plain": [
       "\u001b[1m2×2 DataFrame\u001b[0m\n",
       "\u001b[1m Row \u001b[0m│\u001b[1m c2    \u001b[0m\u001b[1m c3     \u001b[0m\n",
       "\u001b[1m     \u001b[0m│\u001b[90m Int64 \u001b[0m\u001b[90m String \u001b[0m\n",
       "─────┼───────────────\n",
       "   1 │     2  c\n",
       "   2 │    16  x"
      ]
     },
     "execution_count": 53,
     "metadata": {},
     "output_type": "execute_result"
    }
   ],
   "source": [
    "# select using symbol with Symbol constuctor\n",
    "CSV.read(IOBuffer(data), DataFrame;select=[Symbol(\"c3\"),:c2])"
   ]
  },
  {
   "cell_type": "markdown",
   "metadata": {},
   "source": [
    "## Drop parameter\n",
    "Drop is the opposite of select. It says which columns to drop."
   ]
  },
  {
   "cell_type": "code",
   "execution_count": 49,
   "metadata": {},
   "outputs": [
    {
     "data": {
      "text/html": [
       "<table class=\"data-frame\"><thead><tr><th></th><th>c1</th><th>c4</th></tr><tr><th></th><th>String</th><th>Float64</th></tr></thead><tbody><p>2 rows × 2 columns</p><tr><th>1</th><td>1</td><td>1.5</td></tr><tr><th>2</th><td>C|D</td><td>2.33</td></tr></tbody></table>"
      ],
      "text/latex": [
       "\\begin{tabular}{r|cc}\n",
       "\t& c1 & c4\\\\\n",
       "\t\\hline\n",
       "\t& String & Float64\\\\\n",
       "\t\\hline\n",
       "\t1 & 1 & 1.5 \\\\\n",
       "\t2 & C|D & 2.33 \\\\\n",
       "\\end{tabular}\n"
      ],
      "text/plain": [
       "\u001b[1m2×2 DataFrame\u001b[0m\n",
       "\u001b[1m Row \u001b[0m│\u001b[1m c1     \u001b[0m\u001b[1m c4      \u001b[0m\n",
       "\u001b[1m     \u001b[0m│\u001b[90m String \u001b[0m\u001b[90m Float64 \u001b[0m\n",
       "─────┼─────────────────\n",
       "   1 │ 1          1.5\n",
       "   2 │ C|D        2.33"
      ]
     },
     "execution_count": 49,
     "metadata": {},
     "output_type": "execute_result"
    }
   ],
   "source": [
    "CSV.read(IOBuffer(data), DataFrame;drop=[Symbol(\"c3\"),:c2])"
   ]
  },
  {
   "cell_type": "markdown",
   "metadata": {},
   "source": [
    "### Header parameter\n",
    "You can specify \n",
    "\n",
    "* row which is header (it can be more than 1 row, e.g. range 1:2)\n",
    "* there's no header\n",
    "* rename the columns"
   ]
  },
  {
   "cell_type": "code",
   "execution_count": 43,
   "metadata": {},
   "outputs": [
    {
     "data": {
      "text/html": [
       "<table class=\"data-frame\"><thead><tr><th></th><th>c1</th><th>c2</th><th>c3</th><th>c4</th></tr><tr><th></th><th>String</th><th>Int64</th><th>String</th><th>Float64</th></tr></thead><tbody><p>2 rows × 4 columns</p><tr><th>1</th><td>1</td><td>2</td><td>c</td><td>1.5</td></tr><tr><th>2</th><td>C|D</td><td>16</td><td>x</td><td>2.33</td></tr></tbody></table>"
      ],
      "text/latex": [
       "\\begin{tabular}{r|cccc}\n",
       "\t& c1 & c2 & c3 & c4\\\\\n",
       "\t\\hline\n",
       "\t& String & Int64 & String & Float64\\\\\n",
       "\t\\hline\n",
       "\t1 & 1 & 2 & c & 1.5 \\\\\n",
       "\t2 & C|D & 16 & x & 2.33 \\\\\n",
       "\\end{tabular}\n"
      ],
      "text/plain": [
       "\u001b[1m2×4 DataFrame\u001b[0m\n",
       "\u001b[1m Row \u001b[0m│\u001b[1m c1     \u001b[0m\u001b[1m c2    \u001b[0m\u001b[1m c3     \u001b[0m\u001b[1m c4      \u001b[0m\n",
       "\u001b[1m     \u001b[0m│\u001b[90m String \u001b[0m\u001b[90m Int64 \u001b[0m\u001b[90m String \u001b[0m\u001b[90m Float64 \u001b[0m\n",
       "─────┼────────────────────────────────\n",
       "   1 │ 1           2  c          1.5\n",
       "   2 │ C|D        16  x          2.33"
      ]
     },
     "execution_count": 43,
     "metadata": {},
     "output_type": "execute_result"
    }
   ],
   "source": [
    "data = \"\"\"c1|c2|c3|c4\n",
    "\"1\"|2|c|1.5\n",
    "\"C|D\"|16|x|2.33\n",
    "\"\"\"\n",
    "\n",
    "# specify that header is on the first row\n",
    "CSV.read(IOBuffer(data), DataFrame; header=1)"
   ]
  },
  {
   "cell_type": "code",
   "execution_count": 44,
   "metadata": {},
   "outputs": [
    {
     "data": {
      "text/html": [
       "<table class=\"data-frame\"><thead><tr><th></th><th>Column1</th><th>Column2</th><th>Column3</th><th>Column4</th></tr><tr><th></th><th>String</th><th>String</th><th>String</th><th>String</th></tr></thead><tbody><p>3 rows × 4 columns</p><tr><th>1</th><td>c1</td><td>c2</td><td>c3</td><td>c4</td></tr><tr><th>2</th><td>1</td><td>2</td><td>c</td><td>1.5</td></tr><tr><th>3</th><td>C|D</td><td>16</td><td>x</td><td>2.33</td></tr></tbody></table>"
      ],
      "text/latex": [
       "\\begin{tabular}{r|cccc}\n",
       "\t& Column1 & Column2 & Column3 & Column4\\\\\n",
       "\t\\hline\n",
       "\t& String & String & String & String\\\\\n",
       "\t\\hline\n",
       "\t1 & c1 & c2 & c3 & c4 \\\\\n",
       "\t2 & 1 & 2 & c & 1.5 \\\\\n",
       "\t3 & C|D & 16 & x & 2.33 \\\\\n",
       "\\end{tabular}\n"
      ],
      "text/plain": [
       "\u001b[1m3×4 DataFrame\u001b[0m\n",
       "\u001b[1m Row \u001b[0m│\u001b[1m Column1 \u001b[0m\u001b[1m Column2 \u001b[0m\u001b[1m Column3 \u001b[0m\u001b[1m Column4 \u001b[0m\n",
       "\u001b[1m     \u001b[0m│\u001b[90m String  \u001b[0m\u001b[90m String  \u001b[0m\u001b[90m String  \u001b[0m\u001b[90m String  \u001b[0m\n",
       "─────┼────────────────────────────────────\n",
       "   1 │ c1       c2       c3       c4\n",
       "   2 │ 1        2        c        1.5\n",
       "   3 │ C|D      16       x        2.33"
      ]
     },
     "execution_count": 44,
     "metadata": {},
     "output_type": "execute_result"
    }
   ],
   "source": [
    "# if there's no header, arbitrary names will be created\n",
    "CSV.read(IOBuffer(data), DataFrame; header=0)"
   ]
  },
  {
   "cell_type": "code",
   "execution_count": 47,
   "metadata": {},
   "outputs": [
    {
     "data": {
      "text/html": [
       "<table class=\"data-frame\"><thead><tr><th></th><th>A</th><th>B</th><th>C</th><th>D</th></tr><tr><th></th><th>String</th><th>String</th><th>String</th><th>String</th></tr></thead><tbody><p>4 rows × 4 columns</p><tr><th>1</th><td>c</td><td>c</td><td>c</td><td>c</td></tr><tr><th>2</th><td>1</td><td>2</td><td>3</td><td>4</td></tr><tr><th>3</th><td>1</td><td>2</td><td>c</td><td>1.5</td></tr><tr><th>4</th><td>C|D</td><td>16</td><td>x</td><td>2.33</td></tr></tbody></table>"
      ],
      "text/latex": [
       "\\begin{tabular}{r|cccc}\n",
       "\t& A & B & C & D\\\\\n",
       "\t\\hline\n",
       "\t& String & String & String & String\\\\\n",
       "\t\\hline\n",
       "\t1 & c & c & c & c \\\\\n",
       "\t2 & 1 & 2 & 3 & 4 \\\\\n",
       "\t3 & 1 & 2 & c & 1.5 \\\\\n",
       "\t4 & C|D & 16 & x & 2.33 \\\\\n",
       "\\end{tabular}\n"
      ],
      "text/plain": [
       "\u001b[1m4×4 DataFrame\u001b[0m\n",
       "\u001b[1m Row \u001b[0m│\u001b[1m A      \u001b[0m\u001b[1m B      \u001b[0m\u001b[1m C      \u001b[0m\u001b[1m D      \u001b[0m\n",
       "\u001b[1m     \u001b[0m│\u001b[90m String \u001b[0m\u001b[90m String \u001b[0m\u001b[90m String \u001b[0m\u001b[90m String \u001b[0m\n",
       "─────┼────────────────────────────────\n",
       "   1 │ c       c       c       c\n",
       "   2 │ 1       2       3       4\n",
       "   3 │ 1       2       c       1.5\n",
       "   4 │ C|D     16      x       2.33"
      ]
     },
     "execution_count": 47,
     "metadata": {},
     "output_type": "execute_result"
    }
   ],
   "source": [
    "# use header to rename the columns\n",
    "CSV.read(IOBuffer(data), DataFrame; header=[\"A\",\"B\",\"C\",\"D\"])"
   ]
  },
  {
   "cell_type": "code",
   "execution_count": 45,
   "metadata": {},
   "outputs": [
    {
     "data": {
      "text/html": [
       "<table class=\"data-frame\"><thead><tr><th></th><th>c_1</th><th>c_2</th><th>c_3</th><th>c_4</th></tr><tr><th></th><th>String</th><th>Int64</th><th>String</th><th>Float64</th></tr></thead><tbody><p>2 rows × 4 columns</p><tr><th>1</th><td>1</td><td>2</td><td>c</td><td>1.5</td></tr><tr><th>2</th><td>C|D</td><td>16</td><td>x</td><td>2.33</td></tr></tbody></table>"
      ],
      "text/latex": [
       "\\begin{tabular}{r|cccc}\n",
       "\t& c\\_1 & c\\_2 & c\\_3 & c\\_4\\\\\n",
       "\t\\hline\n",
       "\t& String & Int64 & String & Float64\\\\\n",
       "\t\\hline\n",
       "\t1 & 1 & 2 & c & 1.5 \\\\\n",
       "\t2 & C|D & 16 & x & 2.33 \\\\\n",
       "\\end{tabular}\n"
      ],
      "text/plain": [
       "\u001b[1m2×4 DataFrame\u001b[0m\n",
       "\u001b[1m Row \u001b[0m│\u001b[1m c_1    \u001b[0m\u001b[1m c_2   \u001b[0m\u001b[1m c_3    \u001b[0m\u001b[1m c_4     \u001b[0m\n",
       "\u001b[1m     \u001b[0m│\u001b[90m String \u001b[0m\u001b[90m Int64 \u001b[0m\u001b[90m String \u001b[0m\u001b[90m Float64 \u001b[0m\n",
       "─────┼────────────────────────────────\n",
       "   1 │ 1           2  c          1.5\n",
       "   2 │ C|D        16  x          2.33"
      ]
     },
     "execution_count": 45,
     "metadata": {},
     "output_type": "execute_result"
    }
   ],
   "source": [
    "data = \"\"\"\n",
    "c|c|c|c\n",
    "1|2|3|4\n",
    "\"1\"|2|c|1.5\n",
    "\"C|D\"|16|x|2.33\n",
    "\"\"\"\n",
    "\n",
    "CSV.read(IOBuffer(data), DataFrame; header=1:2, skipto=3)"
   ]
  },
  {
   "cell_type": "markdown",
   "metadata": {},
   "source": [
    "### Type and Types\n",
    "* `type` - set the same type to all columns\n",
    "* `types` - Vector or Dict of types"
   ]
  },
  {
   "cell_type": "code",
   "execution_count": 60,
   "metadata": {},
   "outputs": [
    {
     "data": {
      "text/html": [
       "<table class=\"data-frame\"><thead><tr><th></th><th>c1</th><th>c2</th><th>c3</th><th>c4</th></tr><tr><th></th><th>String</th><th>String</th><th>String</th><th>String</th></tr></thead><tbody><p>2 rows × 4 columns</p><tr><th>1</th><td>1</td><td>2</td><td>c</td><td>1.5</td></tr><tr><th>2</th><td>C|D</td><td>16</td><td>x</td><td>2.33</td></tr></tbody></table>"
      ],
      "text/latex": [
       "\\begin{tabular}{r|cccc}\n",
       "\t& c1 & c2 & c3 & c4\\\\\n",
       "\t\\hline\n",
       "\t& String & String & String & String\\\\\n",
       "\t\\hline\n",
       "\t1 & 1 & 2 & c & 1.5 \\\\\n",
       "\t2 & C|D & 16 & x & 2.33 \\\\\n",
       "\\end{tabular}\n"
      ],
      "text/plain": [
       "\u001b[1m2×4 DataFrame\u001b[0m\n",
       "\u001b[1m Row \u001b[0m│\u001b[1m c1     \u001b[0m\u001b[1m c2     \u001b[0m\u001b[1m c3     \u001b[0m\u001b[1m c4     \u001b[0m\n",
       "\u001b[1m     \u001b[0m│\u001b[90m String \u001b[0m\u001b[90m String \u001b[0m\u001b[90m String \u001b[0m\u001b[90m String \u001b[0m\n",
       "─────┼────────────────────────────────\n",
       "   1 │ 1       2       c       1.5\n",
       "   2 │ C|D     16      x       2.33"
      ]
     },
     "execution_count": 60,
     "metadata": {},
     "output_type": "execute_result"
    }
   ],
   "source": [
    "# type turns all the columns to the same type\n",
    "CSV.read(IOBuffer(data), DataFrame; type=String)"
   ]
  },
  {
   "cell_type": "code",
   "execution_count": 63,
   "metadata": {},
   "outputs": [
    {
     "name": "stderr",
     "output_type": "stream",
     "text": [
      "┌ Warning: thread = 1 warning: error parsing Int64 around row = 2, col = 4: \"1.5\n",
      "│ \", error=INVALID: OK | NEWLINE | INVALID_DELIMITER \n",
      "└ @ CSV /home/vaclav/.julia/packages/CSV/la2cd/src/file.jl:606\n",
      "┌ Warning: thread = 1 warning: error parsing Int64 around row = 3, col = 4: \"2.33\n",
      "│ \", error=INVALID: OK | NEWLINE | EOF | INVALID_DELIMITER \n",
      "└ @ CSV /home/vaclav/.julia/packages/CSV/la2cd/src/file.jl:606\n"
     ]
    },
    {
     "data": {
      "text/html": [
       "<table class=\"data-frame\"><thead><tr><th></th><th>c1</th><th>c2</th><th>c3</th><th>c4</th></tr><tr><th></th><th>String</th><th>String</th><th>String</th><th>Int64?</th></tr></thead><tbody><p>2 rows × 4 columns</p><tr><th>1</th><td>1</td><td>2</td><td>c</td><td><em>missing</em></td></tr><tr><th>2</th><td>C|D</td><td>16</td><td>x</td><td><em>missing</em></td></tr></tbody></table>"
      ],
      "text/latex": [
       "\\begin{tabular}{r|cccc}\n",
       "\t& c1 & c2 & c3 & c4\\\\\n",
       "\t\\hline\n",
       "\t& String & String & String & Int64?\\\\\n",
       "\t\\hline\n",
       "\t1 & 1 & 2 & c & \\emph{missing} \\\\\n",
       "\t2 & C|D & 16 & x & \\emph{missing} \\\\\n",
       "\\end{tabular}\n"
      ],
      "text/plain": [
       "\u001b[1m2×4 DataFrame\u001b[0m\n",
       "\u001b[1m Row \u001b[0m│\u001b[1m c1     \u001b[0m\u001b[1m c2     \u001b[0m\u001b[1m c3     \u001b[0m\u001b[1m c4      \u001b[0m\n",
       "\u001b[1m     \u001b[0m│\u001b[90m String \u001b[0m\u001b[90m String \u001b[0m\u001b[90m String \u001b[0m\u001b[90m Int64?  \u001b[0m\n",
       "─────┼─────────────────────────────────\n",
       "   1 │ 1       2       c      \u001b[90m missing \u001b[0m\n",
       "   2 │ C|D     16      x      \u001b[90m missing \u001b[0m"
      ]
     },
     "execution_count": 63,
     "metadata": {},
     "output_type": "execute_result"
    }
   ],
   "source": [
    "data = \"\"\"c1|c2|c3|c4\n",
    "\"1\"|2|c|1.5\n",
    "\"C|D\"|16|x|2.33\n",
    "\"\"\"\n",
    "\n",
    "# specify types of the columns\n",
    "CSV.read(IOBuffer(data), DataFrame; types=Dict(:c2=>String, :c4=>Int64))"
   ]
  },
  {
   "cell_type": "code",
   "execution_count": 67,
   "metadata": {},
   "outputs": [
    {
     "data": {
      "text/html": [
       "<table class=\"data-frame\"><thead><tr><th></th><th>c1</th><th>c2</th><th>c3</th><th>c4</th></tr><tr><th></th><th>String</th><th>String</th><th>String</th><th>Int64?</th></tr></thead><tbody><p>2 rows × 4 columns</p><tr><th>1</th><td>1</td><td>2</td><td>c</td><td><em>missing</em></td></tr><tr><th>2</th><td>C|D</td><td>16</td><td>x</td><td><em>missing</em></td></tr></tbody></table>"
      ],
      "text/latex": [
       "\\begin{tabular}{r|cccc}\n",
       "\t& c1 & c2 & c3 & c4\\\\\n",
       "\t\\hline\n",
       "\t& String & String & String & Int64?\\\\\n",
       "\t\\hline\n",
       "\t1 & 1 & 2 & c & \\emph{missing} \\\\\n",
       "\t2 & C|D & 16 & x & \\emph{missing} \\\\\n",
       "\\end{tabular}\n"
      ],
      "text/plain": [
       "\u001b[1m2×4 DataFrame\u001b[0m\n",
       "\u001b[1m Row \u001b[0m│\u001b[1m c1     \u001b[0m\u001b[1m c2     \u001b[0m\u001b[1m c3     \u001b[0m\u001b[1m c4      \u001b[0m\n",
       "\u001b[1m     \u001b[0m│\u001b[90m String \u001b[0m\u001b[90m String \u001b[0m\u001b[90m String \u001b[0m\u001b[90m Int64?  \u001b[0m\n",
       "─────┼─────────────────────────────────\n",
       "   1 │ 1       2       c      \u001b[90m missing \u001b[0m\n",
       "   2 │ C|D     16      x      \u001b[90m missing \u001b[0m"
      ]
     },
     "execution_count": 67,
     "metadata": {},
     "output_type": "execute_result"
    }
   ],
   "source": [
    "# you can silence the warnings using `silencewarnings`\n",
    "CSV.read(IOBuffer(data), DataFrame; types=Dict(\"c2\"=>String, \"c4\"=>Int64), silencewarnings=true)"
   ]
  },
  {
   "cell_type": "markdown",
   "metadata": {},
   "source": [
    "### Date Formats"
   ]
  },
  {
   "cell_type": "code",
   "execution_count": 92,
   "metadata": {},
   "outputs": [
    {
     "data": {
      "text/html": [
       "<table class=\"data-frame\"><thead><tr><th></th><th>c1</th><th>c2</th><th>c3</th><th>c4</th><th>d1</th></tr><tr><th></th><th>String</th><th>Int64</th><th>String</th><th>Float64</th><th>Date…</th></tr></thead><tbody><p>2 rows × 5 columns</p><tr><th>1</th><td>XY</td><td>2</td><td>c</td><td>1.5</td><td>2020-01-05</td></tr><tr><th>2</th><td>AB</td><td>16</td><td>x</td><td>2.33</td><td>2021-01-05</td></tr></tbody></table>"
      ],
      "text/latex": [
       "\\begin{tabular}{r|ccccc}\n",
       "\t& c1 & c2 & c3 & c4 & d1\\\\\n",
       "\t\\hline\n",
       "\t& String & Int64 & String & Float64 & Date…\\\\\n",
       "\t\\hline\n",
       "\t1 & XY & 2 & c & 1.5 & 2020-01-05 \\\\\n",
       "\t2 & AB & 16 & x & 2.33 & 2021-01-05 \\\\\n",
       "\\end{tabular}\n"
      ],
      "text/plain": [
       "\u001b[1m2×5 DataFrame\u001b[0m\n",
       "\u001b[1m Row \u001b[0m│\u001b[1m c1     \u001b[0m\u001b[1m c2    \u001b[0m\u001b[1m c3     \u001b[0m\u001b[1m c4      \u001b[0m\u001b[1m d1         \u001b[0m\n",
       "\u001b[1m     \u001b[0m│\u001b[90m String \u001b[0m\u001b[90m Int64 \u001b[0m\u001b[90m String \u001b[0m\u001b[90m Float64 \u001b[0m\u001b[90m Date…      \u001b[0m\n",
       "─────┼────────────────────────────────────────────\n",
       "   1 │ XY          2  c          1.5   2020-01-05\n",
       "   2 │ AB         16  x          2.33  2021-01-05"
      ]
     },
     "execution_count": 92,
     "metadata": {},
     "output_type": "execute_result"
    }
   ],
   "source": [
    "data = \"\"\"c1|c2|c3|c4|d1\n",
    "\"XY\"|2|c|1.5|2020-01-05\n",
    "\"AB\"|16|x|2.33|2021-01-05\n",
    "\"\"\"\n",
    "\n",
    "CSV.read(IOBuffer(data), DataFrame; \n",
    "    dateformat=\"yyyy-mm-dd\")"
   ]
  },
  {
   "cell_type": "code",
   "execution_count": 200,
   "metadata": {},
   "outputs": [
    {
     "data": {
      "text/html": [
       "<table class=\"data-frame\"><thead><tr><th></th><th>c1</th><th>c2</th><th>c3</th><th>c4</th><th>d1</th><th>d2</th></tr><tr><th></th><th>String</th><th>Int64</th><th>String</th><th>Float64</th><th>Date</th><th>Date</th></tr></thead><tbody><p>2 rows × 6 columns</p><tr><th>1</th><td>XY</td><td>2</td><td>c</td><td>1.5</td><td>2020-01-05</td><td>0020-12-01</td></tr><tr><th>2</th><td>AB</td><td>16</td><td>x</td><td>2.33</td><td>2021-01-05</td><td>0020-10-15</td></tr></tbody></table>"
      ],
      "text/latex": [
       "\\begin{tabular}{r|cccccc}\n",
       "\t& c1 & c2 & c3 & c4 & d1 & d2\\\\\n",
       "\t\\hline\n",
       "\t& String & Int64 & String & Float64 & Date & Date\\\\\n",
       "\t\\hline\n",
       "\t1 & XY & 2 & c & 1.5 & 2020-01-05 & 0020-12-01 \\\\\n",
       "\t2 & AB & 16 & x & 2.33 & 2021-01-05 & 0020-10-15 \\\\\n",
       "\\end{tabular}\n"
      ],
      "text/plain": [
       "\u001b[1m2×6 DataFrame\u001b[0m\n",
       "\u001b[1m Row \u001b[0m│\u001b[1m c1     \u001b[0m\u001b[1m c2    \u001b[0m\u001b[1m c3     \u001b[0m\u001b[1m c4      \u001b[0m\u001b[1m d1         \u001b[0m\u001b[1m d2         \u001b[0m\n",
       "\u001b[1m     \u001b[0m│\u001b[90m String \u001b[0m\u001b[90m Int64 \u001b[0m\u001b[90m String \u001b[0m\u001b[90m Float64 \u001b[0m\u001b[90m Date       \u001b[0m\u001b[90m Date       \u001b[0m\n",
       "─────┼────────────────────────────────────────────────────────\n",
       "   1 │ XY          2  c          1.5   2020-01-05  0020-12-01\n",
       "   2 │ AB         16  x          2.33  2021-01-05  0020-10-15"
      ]
     },
     "execution_count": 200,
     "metadata": {},
     "output_type": "execute_result"
    }
   ],
   "source": [
    "data = \"\"\"c1|c2|c3|c4|d1|d2\n",
    "\"XY\"|2|c|1.5|2020-01-05|01/12/20\n",
    "\"AB\"|16|x|2.33|2021-01-05|15/10/20\n",
    "\"\"\"\n",
    "\n",
    "# specify that columns are dates and then specify the dateformat\n",
    "df = CSV.read(IOBuffer(data), DataFrame; \n",
    "    types=Dict(\"d1\"=>Date, \"d2\"=>Date), \n",
    "    dateformats=Dict(\n",
    "        \"d1\"=>\"yyyy-mm-dd\",\n",
    "        \"d2\"=>\"dd/mm/yy\"\n",
    "    )\n",
    ")\n",
    "df"
   ]
  },
  {
   "cell_type": "code",
   "execution_count": 201,
   "metadata": {},
   "outputs": [
    {
     "data": {
      "text/html": [
       "<table class=\"data-frame\"><thead><tr><th></th><th>c1</th><th>c2</th><th>c3</th><th>c4</th><th>d1</th><th>d2</th></tr><tr><th></th><th>String</th><th>Int64</th><th>String</th><th>Float64</th><th>Date</th><th>Date</th></tr></thead><tbody><p>2 rows × 6 columns</p><tr><th>1</th><td>XY</td><td>2</td><td>c</td><td>1.5</td><td>2020-01-05</td><td>2020-12-01</td></tr><tr><th>2</th><td>AB</td><td>16</td><td>x</td><td>2.33</td><td>2021-01-05</td><td>2020-10-15</td></tr></tbody></table>"
      ],
      "text/latex": [
       "\\begin{tabular}{r|cccccc}\n",
       "\t& c1 & c2 & c3 & c4 & d1 & d2\\\\\n",
       "\t\\hline\n",
       "\t& String & Int64 & String & Float64 & Date & Date\\\\\n",
       "\t\\hline\n",
       "\t1 & XY & 2 & c & 1.5 & 2020-01-05 & 2020-12-01 \\\\\n",
       "\t2 & AB & 16 & x & 2.33 & 2021-01-05 & 2020-10-15 \\\\\n",
       "\\end{tabular}\n"
      ],
      "text/plain": [
       "\u001b[1m2×6 DataFrame\u001b[0m\n",
       "\u001b[1m Row \u001b[0m│\u001b[1m c1     \u001b[0m\u001b[1m c2    \u001b[0m\u001b[1m c3     \u001b[0m\u001b[1m c4      \u001b[0m\u001b[1m d1         \u001b[0m\u001b[1m d2         \u001b[0m\n",
       "\u001b[1m     \u001b[0m│\u001b[90m String \u001b[0m\u001b[90m Int64 \u001b[0m\u001b[90m String \u001b[0m\u001b[90m Float64 \u001b[0m\u001b[90m Date       \u001b[0m\u001b[90m Date       \u001b[0m\n",
       "─────┼────────────────────────────────────────────────────────\n",
       "   1 │ XY          2  c          1.5   2020-01-05  2020-12-01\n",
       "   2 │ AB         16  x          2.33  2021-01-05  2020-10-15"
      ]
     },
     "execution_count": 201,
     "metadata": {},
     "output_type": "execute_result"
    }
   ],
   "source": [
    "# add 2000 years to the column d2 containing 0020-MM-DD\n",
    "# caregul to run this only once, since both df[:, :d2] or df[!, :d2] modifies the column\n",
    "df[!, :d2] += Dates.Year(2000)\n",
    "df"
   ]
  },
  {
   "cell_type": "markdown",
   "metadata": {},
   "source": [
    "# Speed"
   ]
  },
  {
   "cell_type": "code",
   "execution_count": 228,
   "metadata": {},
   "outputs": [
    {
     "data": {
      "text/plain": [
       "\"/home/vaclav/Data/Kaggle/EEE-CIS_Fraud_Detection/train_transaction.csv\""
      ]
     },
     "execution_count": 228,
     "metadata": {},
     "output_type": "execute_result"
    }
   ],
   "source": [
    "path = \"/home/vaclav/Data/Kaggle/EEE-CIS_Fraud_Detection/train_transaction.csv\""
   ]
  },
  {
   "cell_type": "code",
   "execution_count": 234,
   "metadata": {},
   "outputs": [
    {
     "data": {
      "text/latex": [
       "The analogue of IPython's \\texttt{\\%time statement} (also \\texttt{\\%timeit}) in Julia is \\texttt{@time statement}.  The analogue of \\texttt{\\%\\%time ...code...} is\n",
       "\n",
       "\\begin{verbatim}\n",
       "@time begin\n",
       "    ...code...\n",
       "end\n",
       "\\end{verbatim}\n",
       "Note, however, that you should put all performance-critical code into a function, avoiding global variables, before doing performance measurements in Julia; see the \\href{http://docs.julialang.org/en/latest/manual/performance-tips/}{performance tips in the Julia manual}.\n",
       "\n",
       "The \\texttt{@time} macro prints the timing results, and returns the value of evaluating the expression.  To instead return the time (in seconds), use \\texttt{@elapsed statement}.\n",
       "\n",
       "For more extensive benchmarking tools, including the ability to collect statistics from multiple runs, see the \\href{https://github.com/JuliaCI/BenchmarkTools.jl}{BenchmarkTools package}.\n",
       "\n"
      ],
      "text/markdown": [
       "The analogue of IPython's `%time statement` (also `%timeit`) in Julia is `@time statement`.  The analogue of `%%time ...code...` is\n",
       "\n",
       "```\n",
       "@time begin\n",
       "    ...code...\n",
       "end\n",
       "```\n",
       "\n",
       "Note, however, that you should put all performance-critical code into a function, avoiding global variables, before doing performance measurements in Julia; see the [performance tips in the Julia manual](http://docs.julialang.org/en/latest/manual/performance-tips/).\n",
       "\n",
       "The `@time` macro prints the timing results, and returns the value of evaluating the expression.  To instead return the time (in seconds), use `@elapsed statement`.\n",
       "\n",
       "For more extensive benchmarking tools, including the ability to collect statistics from multiple runs, see the [BenchmarkTools package](https://github.com/JuliaCI/BenchmarkTools.jl).\n"
      ],
      "text/plain": [
       "  The analogue of IPython's \u001b[36m%time statement\u001b[39m (also \u001b[36m%timeit\u001b[39m) in Julia is \u001b[36m@time\n",
       "  statement\u001b[39m. The analogue of \u001b[36m%%time ...code...\u001b[39m is\n",
       "\n",
       "\u001b[36m  @time begin\u001b[39m\n",
       "\u001b[36m      ...code...\u001b[39m\n",
       "\u001b[36m  end\u001b[39m\n",
       "\n",
       "  Note, however, that you should put all performance-critical code into a\n",
       "  function, avoiding global variables, before doing performance measurements\n",
       "  in Julia; see the performance tips in the Julia manual\n",
       "  (http://docs.julialang.org/en/latest/manual/performance-tips/).\n",
       "\n",
       "  The \u001b[36m@time\u001b[39m macro prints the timing results, and returns the value of\n",
       "  evaluating the expression. To instead return the time (in seconds), use\n",
       "  \u001b[36m@elapsed statement\u001b[39m.\n",
       "\n",
       "  For more extensive benchmarking tools, including the ability to collect\n",
       "  statistics from multiple runs, see the BenchmarkTools package\n",
       "  (https://github.com/JuliaCI/BenchmarkTools.jl)."
      ]
     },
     "metadata": {},
     "output_type": "display_data"
    }
   ],
   "source": [
    "%%timeit"
   ]
  },
  {
   "cell_type": "code",
   "execution_count": 233,
   "metadata": {},
   "outputs": [
    {
     "name": "stdout",
     "output_type": "stream",
     "text": [
      "  8.834676 seconds (3.62 M allocations: 2.048 GiB, 2.77% gc time)\n"
     ]
    },
    {
     "data": {
      "text/html": [
       "<table class=\"data-frame\"><thead><tr><th></th><th>TransactionID</th><th>isFraud</th><th>TransactionDT</th><th>TransactionAmt</th><th>ProductCD</th><th>card1</th><th>card2</th></tr><tr><th></th><th>Int64</th><th>Int64</th><th>Int64</th><th>Float64</th><th>String</th><th>Int64</th><th>Float64?</th></tr></thead><tbody><p>590,540 rows × 394 columns (omitted printing of 387 columns)</p><tr><th>1</th><td>2987000</td><td>0</td><td>86400</td><td>68.5</td><td>W</td><td>13926</td><td><em>missing</em></td></tr><tr><th>2</th><td>2987001</td><td>0</td><td>86401</td><td>29.0</td><td>W</td><td>2755</td><td>404.0</td></tr><tr><th>3</th><td>2987002</td><td>0</td><td>86469</td><td>59.0</td><td>W</td><td>4663</td><td>490.0</td></tr><tr><th>4</th><td>2987003</td><td>0</td><td>86499</td><td>50.0</td><td>W</td><td>18132</td><td>567.0</td></tr><tr><th>5</th><td>2987004</td><td>0</td><td>86506</td><td>50.0</td><td>H</td><td>4497</td><td>514.0</td></tr><tr><th>6</th><td>2987005</td><td>0</td><td>86510</td><td>49.0</td><td>W</td><td>5937</td><td>555.0</td></tr><tr><th>7</th><td>2987006</td><td>0</td><td>86522</td><td>159.0</td><td>W</td><td>12308</td><td>360.0</td></tr><tr><th>8</th><td>2987007</td><td>0</td><td>86529</td><td>422.5</td><td>W</td><td>12695</td><td>490.0</td></tr><tr><th>9</th><td>2987008</td><td>0</td><td>86535</td><td>15.0</td><td>H</td><td>2803</td><td>100.0</td></tr><tr><th>10</th><td>2987009</td><td>0</td><td>86536</td><td>117.0</td><td>W</td><td>17399</td><td>111.0</td></tr><tr><th>11</th><td>2987010</td><td>0</td><td>86549</td><td>75.887</td><td>C</td><td>16496</td><td>352.0</td></tr><tr><th>12</th><td>2987011</td><td>0</td><td>86555</td><td>16.495</td><td>C</td><td>4461</td><td>375.0</td></tr><tr><th>13</th><td>2987012</td><td>0</td><td>86564</td><td>50.0</td><td>W</td><td>3786</td><td>418.0</td></tr><tr><th>14</th><td>2987013</td><td>0</td><td>86585</td><td>40.0</td><td>W</td><td>12866</td><td>303.0</td></tr><tr><th>15</th><td>2987014</td><td>0</td><td>86596</td><td>10.5</td><td>W</td><td>11839</td><td>490.0</td></tr><tr><th>16</th><td>2987015</td><td>0</td><td>86618</td><td>57.95</td><td>W</td><td>7055</td><td>555.0</td></tr><tr><th>17</th><td>2987016</td><td>0</td><td>86620</td><td>30.0</td><td>H</td><td>1790</td><td>555.0</td></tr><tr><th>18</th><td>2987017</td><td>0</td><td>86668</td><td>100.0</td><td>H</td><td>11492</td><td>111.0</td></tr><tr><th>19</th><td>2987018</td><td>0</td><td>86725</td><td>47.95</td><td>W</td><td>4663</td><td>490.0</td></tr><tr><th>20</th><td>2987019</td><td>0</td><td>86730</td><td>186.0</td><td>W</td><td>7005</td><td>111.0</td></tr><tr><th>21</th><td>2987020</td><td>0</td><td>86761</td><td>39.0</td><td>W</td><td>7875</td><td>314.0</td></tr><tr><th>22</th><td>2987021</td><td>0</td><td>86769</td><td>159.95</td><td>W</td><td>11401</td><td>543.0</td></tr><tr><th>23</th><td>2987022</td><td>0</td><td>86786</td><td>50.0</td><td>H</td><td>1724</td><td>583.0</td></tr><tr><th>24</th><td>2987023</td><td>0</td><td>86808</td><td>107.95</td><td>W</td><td>2392</td><td>360.0</td></tr><tr><th>25</th><td>2987024</td><td>0</td><td>86821</td><td>73.95</td><td>W</td><td>10112</td><td>360.0</td></tr><tr><th>26</th><td>2987025</td><td>0</td><td>86944</td><td>107.95</td><td>W</td><td>15385</td><td>111.0</td></tr><tr><th>27</th><td>2987026</td><td>0</td><td>86945</td><td>184.0</td><td>W</td><td>17868</td><td>148.0</td></tr><tr><th>28</th><td>2987027</td><td>0</td><td>86972</td><td>47.95</td><td>W</td><td>11307</td><td>321.0</td></tr><tr><th>29</th><td>2987028</td><td>0</td><td>86973</td><td>20.0</td><td>W</td><td>8431</td><td>269.0</td></tr><tr><th>30</th><td>2987029</td><td>0</td><td>86979</td><td>36.99</td><td>W</td><td>12932</td><td>361.0</td></tr><tr><th>&vellip;</th><td>&vellip;</td><td>&vellip;</td><td>&vellip;</td><td>&vellip;</td><td>&vellip;</td><td>&vellip;</td><td>&vellip;</td></tr></tbody></table>"
      ],
      "text/latex": [
       "\\begin{tabular}{r|cccccccc}\n",
       "\t& TransactionID & isFraud & TransactionDT & TransactionAmt & ProductCD & card1 & card2 & \\\\\n",
       "\t\\hline\n",
       "\t& Int64 & Int64 & Int64 & Float64 & String & Int64 & Float64? & \\\\\n",
       "\t\\hline\n",
       "\t1 & 2987000 & 0 & 86400 & 68.5 & W & 13926 & \\emph{missing} & $\\dots$ \\\\\n",
       "\t2 & 2987001 & 0 & 86401 & 29.0 & W & 2755 & 404.0 & $\\dots$ \\\\\n",
       "\t3 & 2987002 & 0 & 86469 & 59.0 & W & 4663 & 490.0 & $\\dots$ \\\\\n",
       "\t4 & 2987003 & 0 & 86499 & 50.0 & W & 18132 & 567.0 & $\\dots$ \\\\\n",
       "\t5 & 2987004 & 0 & 86506 & 50.0 & H & 4497 & 514.0 & $\\dots$ \\\\\n",
       "\t6 & 2987005 & 0 & 86510 & 49.0 & W & 5937 & 555.0 & $\\dots$ \\\\\n",
       "\t7 & 2987006 & 0 & 86522 & 159.0 & W & 12308 & 360.0 & $\\dots$ \\\\\n",
       "\t8 & 2987007 & 0 & 86529 & 422.5 & W & 12695 & 490.0 & $\\dots$ \\\\\n",
       "\t9 & 2987008 & 0 & 86535 & 15.0 & H & 2803 & 100.0 & $\\dots$ \\\\\n",
       "\t10 & 2987009 & 0 & 86536 & 117.0 & W & 17399 & 111.0 & $\\dots$ \\\\\n",
       "\t11 & 2987010 & 0 & 86549 & 75.887 & C & 16496 & 352.0 & $\\dots$ \\\\\n",
       "\t12 & 2987011 & 0 & 86555 & 16.495 & C & 4461 & 375.0 & $\\dots$ \\\\\n",
       "\t13 & 2987012 & 0 & 86564 & 50.0 & W & 3786 & 418.0 & $\\dots$ \\\\\n",
       "\t14 & 2987013 & 0 & 86585 & 40.0 & W & 12866 & 303.0 & $\\dots$ \\\\\n",
       "\t15 & 2987014 & 0 & 86596 & 10.5 & W & 11839 & 490.0 & $\\dots$ \\\\\n",
       "\t16 & 2987015 & 0 & 86618 & 57.95 & W & 7055 & 555.0 & $\\dots$ \\\\\n",
       "\t17 & 2987016 & 0 & 86620 & 30.0 & H & 1790 & 555.0 & $\\dots$ \\\\\n",
       "\t18 & 2987017 & 0 & 86668 & 100.0 & H & 11492 & 111.0 & $\\dots$ \\\\\n",
       "\t19 & 2987018 & 0 & 86725 & 47.95 & W & 4663 & 490.0 & $\\dots$ \\\\\n",
       "\t20 & 2987019 & 0 & 86730 & 186.0 & W & 7005 & 111.0 & $\\dots$ \\\\\n",
       "\t21 & 2987020 & 0 & 86761 & 39.0 & W & 7875 & 314.0 & $\\dots$ \\\\\n",
       "\t22 & 2987021 & 0 & 86769 & 159.95 & W & 11401 & 543.0 & $\\dots$ \\\\\n",
       "\t23 & 2987022 & 0 & 86786 & 50.0 & H & 1724 & 583.0 & $\\dots$ \\\\\n",
       "\t24 & 2987023 & 0 & 86808 & 107.95 & W & 2392 & 360.0 & $\\dots$ \\\\\n",
       "\t25 & 2987024 & 0 & 86821 & 73.95 & W & 10112 & 360.0 & $\\dots$ \\\\\n",
       "\t26 & 2987025 & 0 & 86944 & 107.95 & W & 15385 & 111.0 & $\\dots$ \\\\\n",
       "\t27 & 2987026 & 0 & 86945 & 184.0 & W & 17868 & 148.0 & $\\dots$ \\\\\n",
       "\t28 & 2987027 & 0 & 86972 & 47.95 & W & 11307 & 321.0 & $\\dots$ \\\\\n",
       "\t29 & 2987028 & 0 & 86973 & 20.0 & W & 8431 & 269.0 & $\\dots$ \\\\\n",
       "\t30 & 2987029 & 0 & 86979 & 36.99 & W & 12932 & 361.0 & $\\dots$ \\\\\n",
       "\t$\\dots$ & $\\dots$ & $\\dots$ & $\\dots$ & $\\dots$ & $\\dots$ & $\\dots$ & $\\dots$ &  \\\\\n",
       "\\end{tabular}\n"
      ],
      "text/plain": [
       "\u001b[1m590540×394 DataFrame\u001b[0m\n",
       "\u001b[1m    Row \u001b[0m│\u001b[1m TransactionID \u001b[0m\u001b[1m isFraud \u001b[0m\u001b[1m TransactionDT \u001b[0m\u001b[1m TransactionAmt \u001b[0m\u001b[1m ProductCD \u001b[0m\u001b[1m ca\u001b[0m ⋯\n",
       "\u001b[1m        \u001b[0m│\u001b[90m Int64         \u001b[0m\u001b[90m Int64   \u001b[0m\u001b[90m Int64         \u001b[0m\u001b[90m Float64        \u001b[0m\u001b[90m String    \u001b[0m\u001b[90m In\u001b[0m ⋯\n",
       "────────┼───────────────────────────────────────────────────────────────────────\n",
       "      1 │       2987000        0          86400          68.5    W          13 ⋯\n",
       "      2 │       2987001        0          86401          29.0    W           2\n",
       "      3 │       2987002        0          86469          59.0    W           4\n",
       "      4 │       2987003        0          86499          50.0    W          18\n",
       "      5 │       2987004        0          86506          50.0    H           4 ⋯\n",
       "      6 │       2987005        0          86510          49.0    W           5\n",
       "      7 │       2987006        0          86522         159.0    W          12\n",
       "      8 │       2987007        0          86529         422.5    W          12\n",
       "      9 │       2987008        0          86535          15.0    H           2 ⋯\n",
       "     10 │       2987009        0          86536         117.0    W          17\n",
       "     11 │       2987010        0          86549          75.887  C          16\n",
       "   ⋮    │       ⋮           ⋮           ⋮              ⋮             ⋮         ⋱\n",
       " 590531 │       3577530        0       15810926         400.78   W          15\n",
       " 590532 │       3577531        0       15810935         400.0    R           6 ⋯\n",
       " 590533 │       3577532        0       15811007         204.97   W          12\n",
       " 590534 │       3577533        0       15811029         107.95   W          13\n",
       " 590535 │       3577534        0       15811030          67.505  C           5\n",
       " 590536 │       3577535        0       15811047          49.0    W           6 ⋯\n",
       " 590537 │       3577536        0       15811049          39.5    W          10\n",
       " 590538 │       3577537        0       15811079          30.95   W          12\n",
       " 590539 │       3577538        0       15811088         117.0    W           7\n",
       " 590540 │       3577539        0       15811131         279.95   W          15 ⋯\n",
       "\u001b[31m                                             389 columns and 590519 rows omitted\u001b[0m"
      ]
     },
     "execution_count": 233,
     "metadata": {},
     "output_type": "execute_result"
    }
   ],
   "source": [
    "@elapsed begin\n",
    "    CSV.read(path, DataFrame)\n",
    "end"
   ]
  }
 ],
 "metadata": {
  "kernelspec": {
   "display_name": "Julia 1.4.1",
   "language": "julia",
   "name": "julia-1.4"
  },
  "language_info": {
   "file_extension": ".jl",
   "mimetype": "application/julia",
   "name": "julia",
   "version": "1.4.1"
  }
 },
 "nbformat": 4,
 "nbformat_minor": 4
}
